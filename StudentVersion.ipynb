{
 "cells": [
  {
   "cell_type": "markdown",
   "metadata": {},
   "source": [
    "# MP2- Traffic Sign Classifier\n",
    "Before you start, please read through this tutorial of Pytorch: https://pytorch.org/tutorials/beginner/blitz/cifar10_tutorial.html#sphx-glr-beginner-blitz-cifar10-tutorial-py.\n",
    "The basic structure of this MP will be very similar to the example code in the tutorial. But your neural network model need to be more complicated. "
   ]
  },
  {
   "cell_type": "markdown",
   "metadata": {},
   "source": [
    "If any packege is not installed, you shall be able to install them through pip3 install. "
   ]
  },
  {
   "cell_type": "code",
   "execution_count": 2,
   "metadata": {},
   "outputs": [],
   "source": [
    "import cv2\n",
    "import glob\n",
    "import numpy as np\n",
    "import matplotlib.pyplot as plt\n",
    "import os\n",
    "from skimage import io, transform\n",
    "import time\n",
    "\n",
    "import torch\n",
    "import torch.nn as nn\n",
    "import torch.nn.functional as F\n",
    "import torch.optim as optim\n",
    "from torch.utils.data import Dataset, DataLoader, sampler\n",
    "import torchvision\n",
    "from torchvision import transforms, utils\n",
    "import torchvision.utils as vutils\n",
    "import torchvision.datasets as dset\n",
    "from torch.autograd import Variable"
   ]
  },
  {
   "cell_type": "markdown",
   "metadata": {},
   "source": [
    "Set up the parameters. If you have GPU, change the num_gpu. "
   ]
  },
  {
   "cell_type": "code",
   "execution_count": 3,
   "metadata": {},
   "outputs": [
    {
     "data": {
      "text/plain": [
       "<torch._C.Generator at 0x1c15ccec50>"
      ]
     },
     "execution_count": 3,
     "metadata": {},
     "output_type": "execute_result"
    }
   ],
   "source": [
    "# Number of workers for dataloader\n",
    "workers = 4\n",
    "\n",
    "# Batch size during training\n",
    "batch_size = 128\n",
    "\n",
    "# Spatial size of training images. The image size of original images vary from 15 to 250. \n",
    "#But to train our CNN we must have the fixed size for the inputs.\n",
    "#All images will be resized to this size using a transformer.\n",
    "image_size = 32\n",
    "\n",
    "# Number of training epochs\n",
    "num_epochs = 15\n",
    "\n",
    "#number of training classes\n",
    "num_classes = 43\n",
    "\n",
    "# Learning rate for optimizers\n",
    "learning_rate = 0.002\n",
    "\n",
    "# Number of GPUs available. Use 0 for CPU mode.\n",
    "num_gpu = 0\n",
    "\n",
    "# Set random seed for reproducibility\n",
    "manualSeed = 999\n",
    "torch.manual_seed(manualSeed)"
   ]
  },
  {
   "cell_type": "markdown",
   "metadata": {},
   "source": [
    "### Data Preprocessing \n",
    "To improve the performance of our CNN, we need to use some data augmentation techniques. We can change the orientation, location, scale, saturation or brightness of the original image to modify the original images or create new training images. \n",
    "\n",
    "The easiest way to go is openCV. If you are having problem with ppm format, you can convert the images to other image format (PNG, JPG...) using pillow packege: https://pillow.readthedocs.io/en/latest/handbook/tutorial.html\n",
    "\n",
    "You are reqiured to test at least 3 techniques and compare the effectiveness(the accuracy improvement). For each technique, you need to generate new images for at least one class of images. For instance, if you originally have 300 training images in class 01, then you need to generate 300 new images and save them into the same folder as old images. Note that it may be helpful to name the new images properly, so if you find your technique is not helpful, you can remove them easier. <br>\n",
    "You can skip this part and try to have a working neural network first, then come back here to finish it. "
   ]
  },
  {
   "cell_type": "code",
   "execution_count": null,
   "metadata": {},
   "outputs": [],
   "source": []
  },
  {
   "cell_type": "markdown",
   "metadata": {},
   "source": [
    "### Load the data\n",
    "Load the dataset into PyTorch. Assign the path to the training and testing dataset you downloaded previously to the variables \"trainingClassifierRoot\" and \"testClassifierRoot\" below. In the beginning you can just use the original data downloaded from website. Later on you will need to process the image before load them.  "
   ]
  },
  {
   "cell_type": "code",
   "execution_count": 4,
   "metadata": {},
   "outputs": [
    {
     "name": "stdout",
     "output_type": "stream",
     "text": [
      "...\n"
     ]
    }
   ],
   "source": [
    "##TODO\n",
    "trainingClassifierRoot = \n",
    "testClassifierRoot = \n",
    "####\n",
    "\n",
    "# Create the dataset\n",
    "trainClassifierDataset = dset.ImageFolder(root=trainingClassifierRoot,\n",
    "                           transform=transforms.Compose([\n",
    "                               transforms.Resize(image_size),\n",
    "                               transforms.CenterCrop(image_size),\n",
    "                               transforms.ToTensor(),\n",
    "                               transforms.Normalize((0.5, 0.5, 0.5), (0.5, 0.5, 0.5)),\n",
    "                           ]))\n",
    "\n",
    "testClassifierDataset = dset.ImageFolder(root=testClassifierRoot,\n",
    "                           transform=transforms.Compose([\n",
    "                               transforms.Resize(image_size),\n",
    "                               transforms.CenterCrop(image_size),\n",
    "                               transforms.ToTensor(),\n",
    "                               transforms.Normalize((0.5, 0.5, 0.5), (0.5, 0.5, 0.5)),\n",
    "                           ]))\n",
    "\n",
    "# Create the dataloader\n",
    "trainClassifierLoader = torch.utils.data.DataLoader(trainClassifierDataset, batch_size=batch_size, shuffle=True, num_workers=workers)\n",
    "testClassifierLoader = torch.utils.data.DataLoader(testClassifierDataset, batch_size=batch_size, shuffle=True, num_workers=workers)\n",
    "\n",
    "# Decide which device(GPU or CPU) we want to run on\n",
    "device = torch.device(\"cuda:0\" if (torch.cuda.is_available() and ngpu > 0) else \"cpu\")\n",
    "\n",
    "print ('...')"
   ]
  },
  {
   "cell_type": "markdown",
   "metadata": {},
   "source": [
    "### Design the model\n",
    "In this part you will design the structure of CNN. The basic syntax is the same as the toy example in PyTorch tutorial. But you definitely need some more complex models to meet the reqiurements. You need to try at least 3 different structures and report their accuracy and running time (how long it would take to go through the test set). The best one is required to achieve 97% accuracy. Describe the CNN structures and compare the results in your report. Feel free to use any existing structure you find on Internet, but citation in your report is needed.<br>\n",
    "Here is a NN structure that has 98% accuracy. You can start from there: https://chatbotslife.com/german-sign-classification-using-deep-learning-neural-networks-98-8-solution-d05656bf51ad<br>\n",
    "If you really want to get higher accuracy, here are some state-of-the-art papers for your reference: \n",
    "<li>https://arxiv.org/abs/1511.02992</li>\n",
    "<li>https://www.sciencedirect.com/science/article/pii/S0893608018300054?via%3Dihub</li>\n",
    "<li>http://yann.lecun.com/exdb/publis/pdf/sermanet-ijcnn-11.pdf</li>"
   ]
  },
  {
   "cell_type": "code",
   "execution_count": 5,
   "metadata": {},
   "outputs": [
    {
     "name": "stdout",
     "output_type": "stream",
     "text": [
      "...\n"
     ]
    }
   ],
   "source": [
    "class TrafficSignClassifier(nn.Module):\n",
    "    def __init__(self, ngpu):\n",
    "        super(TrafficSignClassifier, self).__init__()\n",
    "        self.ngpu = ngpu\n",
    "        ## TODO\n",
    "\n",
    "        ####\n",
    "        \n",
    "    def forward(self, input):\n",
    "        ##TODO\n",
    "\n",
    "        ####\n",
    "        return output\n",
    "print ('...')"
   ]
  },
  {
   "cell_type": "code",
   "execution_count": 1,
   "metadata": {},
   "outputs": [],
   "source": [
    "classfier = TrafficSignClassifier(ngpu).to(device)\n",
    "\n",
    "# Handle multi-gpu if desired\n",
    "if (device.type == 'cuda') and (ngpu > 1):\n",
    "    classfier = nn.DataParallel(classfier, list(range(num_gpu)))\n",
    "    \n",
    "#To load the trained weights\n",
    "#Uncomment the following line to load the weights. Then you can run testing directly or continue the training\n",
    "#classfier.load_state_dict(torch.load('./MP2weights.pth', map_location='cpu')) \n",
    "#classfier.eval()\n",
    "\n",
    "#Print the model\n",
    "print(classfier)"
   ]
  },
  {
   "cell_type": "markdown",
   "metadata": {},
   "source": [
    "### Set up training environment\n",
    "You can choose different loss functions and optimizers. Here I just use the same ones as in PyTorch official tutorial."
   ]
  },
  {
   "cell_type": "code",
   "execution_count": 7,
   "metadata": {},
   "outputs": [],
   "source": [
    "#training parameters\n",
    "##TODO\n",
    "criterion =    #loss function\n",
    "optimizer = \n",
    "####"
   ]
  },
  {
   "cell_type": "markdown",
   "metadata": {},
   "source": [
    "Now let's start the training. Just like in tutorial, you can print out your loss and the running time at the end of each epoch to monitor the training process. "
   ]
  },
  {
   "cell_type": "code",
   "execution_count": 2,
   "metadata": {},
   "outputs": [],
   "source": [
    "# Training Loop, no need to run if you already loaded the weights\n",
    "for epoch in range(num_epochs):  # loop over the dataset multiple times\n",
    "    ##TODO\n",
    "\n",
    "    \n",
    "    ####\n",
    "    \n",
    "print('Finished Training')"
   ]
  },
  {
   "cell_type": "markdown",
   "metadata": {},
   "source": [
    "### Test the Model\n",
    "Now our model training is finished. If you are satisfied by the result from part of the test set, let's try it on all testing images. Print out the accuracy on all test images. Note you need to achieve 97% accuracy to get full grade."
   ]
  },
  {
   "cell_type": "code",
   "execution_count": 3,
   "metadata": {},
   "outputs": [],
   "source": [
    "## TODO\n",
    "\n",
    "####"
   ]
  },
  {
   "cell_type": "markdown",
   "metadata": {},
   "source": [
    "### Analyze the Results for Each Individual Class\n",
    "To help futher improve the accuracy, we want to know for which classes our NN works well and for which classes it fails. Print out the accuracy of your classifier on each class on the whole testing dataset. Try to explain why some classess have low accuracy in your report. You don't have to speficy the name of each class. Just use something like \"class 0\" is good enough. "
   ]
  },
  {
   "cell_type": "code",
   "execution_count": 4,
   "metadata": {},
   "outputs": [],
   "source": [
    "## TODO\n",
    "\n",
    "\n",
    "####"
   ]
  },
  {
   "cell_type": "markdown",
   "metadata": {},
   "source": [
    "### Save Trained Weights\n",
    "Notice that the trained weights are just variables right now and will be lost when you close the Jupyter file. Obviously, you don't want to train the model again and again. PyTorch can help you save your work. Read the \"Saving & Loading Model for Inference\" part from this tutorial: https://pytorch.org/tutorials/beginner/saving_loading_models.html.<br>\n",
    "Please save the weights from your best model into \"MP2weights.pth\" and include it in your submission. TAs will not train the CNN for you. So if we cannot find this file, you will lose a lot of points.  "
   ]
  },
  {
   "cell_type": "code",
   "execution_count": 10,
   "metadata": {},
   "outputs": [],
   "source": [
    "#save the weights into \"./MP2weights.pth\"\n",
    "torch.save(classfier.state_dict(), \"./MP2weights.pth\")"
   ]
  },
  {
   "cell_type": "markdown",
   "metadata": {},
   "source": [
    "### Tips for Advanced Techniques\n",
    "Congratulations! Now we have built a wonderful trffic sign classifier. If you are unsatified about the accuraccy. Here are a few tricks that can help you improve the results:<br>\n",
    "<li>Balance the dataset. Currently, the size of image dataset from different types of traffic signs vary from 100 to 2000. Hence, our CNN will be trained to be very good at classify those types with a lot of image samples, but behave poorly on the rest of types. One possible solution is to generate more image data from the \"unfavorable\" types to make each type to have similar number of image samples. </li>\n",
    "<li>The selection of loss functions and optimizaters  and the learning rate could make a difference. Here is a good reference for different types of loss functions: https://isaacchanghau.github.io/post/loss_functions/</li>\n",
    "<li>Training the model for too long will make our CNN overfit the training set. If that is the case, we could change the number of epoches to avoid it. </li>\n",
    "<li>There are piles of articles online that teaches you how to improve your CNN. Do some Google search yourself and try implement some interesting ones.</li>"
   ]
  },
  {
   "cell_type": "markdown",
   "metadata": {},
   "source": [
    "### Break It If You Can!\n",
    "Now if you already have trained a neural network with accuracy higher than 90%, let's try to break our system by manipulating the test set. <br>\n",
    "Find the smallest amount of salt and pepper (recall from lecture 2) noise that has to be added to any image in the data set that was classified correctly, for the image with noise to be miss-classified. Write a function to find this smallest noise for mis-classification, for each image class. Then explore how the smallest noise changes across the different classes. Perform the same experiment with gaussian noise instead of salt and pepper noise. What conclusions can you draw about robustness of your classifier from these experiments? <br>\n",
    "Note: In this part you only need to pick one single image and test your code on it. Please put the original image and the image after adding noises into your report. "
   ]
  },
  {
   "cell_type": "code",
   "execution_count": null,
   "metadata": {},
   "outputs": [],
   "source": [
    "##TODO\n",
    "\n",
    "####"
   ]
  }
 ],
 "metadata": {
  "kernelspec": {
   "display_name": "Python 3",
   "language": "python",
   "name": "python3"
  },
  "language_info": {
   "codemirror_mode": {
    "name": "ipython",
    "version": 3
   },
   "file_extension": ".py",
   "mimetype": "text/x-python",
   "name": "python",
   "nbconvert_exporter": "python",
   "pygments_lexer": "ipython3",
   "version": "3.6.3"
  }
 },
 "nbformat": 4,
 "nbformat_minor": 2
}
